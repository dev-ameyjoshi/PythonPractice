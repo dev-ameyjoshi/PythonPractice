{
 "cells": [
  {
   "cell_type": "code",
   "execution_count": 2,
   "metadata": {},
   "outputs": [
    {
     "name": "stdout",
     "output_type": "stream",
     "text": [
      "The sum of all the desks =  18\n"
     ]
    }
   ],
   "source": [
    "import math\r\n",
    "\r\n",
    "first=int(input(\"Insert number of the students of 1th class = \"))\r\n",
    "second=int(input(\"Insert number of the students of 2th class = \"))\r\n",
    "third=int(input(\"Insert number of the students of 1th class = \"))\r\n",
    "\r\n",
    "sum=first+second+third\r\n",
    "avg=sum/2\r\n",
    "disk=avg/2\r\n",
    "round=math.ceil(avg)\r\n",
    "\r\n",
    "if ( first,second,third%2==int(0) ):\r\n",
    "    Sum=math.ceil(first/2)+math.ceil(second/2)+math.ceil(third/2)\r\n",
    "  \r\n",
    "print(\"The sum of all the desks = \",Sum)"
   ]
  },
  {
   "cell_type": "code",
   "execution_count": null,
   "metadata": {},
   "outputs": [],
   "source": []
  }
 ],
 "metadata": {
  "interpreter": {
   "hash": "63fd5069d213b44bf678585dea6b12cceca9941eaf7f819626cde1f2670de90d"
  },
  "kernelspec": {
   "display_name": "Python 3.9.5 64-bit",
   "name": "python3"
  },
  "language_info": {
   "codemirror_mode": {
    "name": "ipython",
    "version": 3
   },
   "file_extension": ".py",
   "mimetype": "text/x-python",
   "name": "python",
   "nbconvert_exporter": "python",
   "pygments_lexer": "ipython3",
   "version": "3.9.5"
  },
  "orig_nbformat": 4
 },
 "nbformat": 4,
 "nbformat_minor": 2
}