{
 "cells": [
  {
   "cell_type": "code",
   "execution_count": 1,
   "metadata": {},
   "outputs": [
    {
     "name": "stdout",
     "output_type": "stream",
     "text": [
      "[12, 24, 88]\n"
     ]
    }
   ],
   "source": [
    "li = [12,24,35,70,88,120,155]\n",
    "li = [x for x in li if x%5!=0 and x%7!=0]\n",
    "print(li)"
   ]
  },
  {
   "cell_type": "code",
   "execution_count": 1,
   "metadata": {},
   "outputs": [
    {
     "name": "stdout",
     "output_type": "stream",
     "text": [
      "Amey Joshi\n"
     ]
    }
   ],
   "source": [
    "new = input(\"What is your name : \")\n",
    "print(new)"
   ]
  },
  {
   "cell_type": "code",
   "execution_count": 4,
   "metadata": {},
   "outputs": [
    {
     "name": "stdout",
     "output_type": "stream",
     "text": [
      "\n",
      " Sum of the digit of given number = 7\n"
     ]
    }
   ],
   "source": [
    "Number = int(input(\"Enter the number : \"))\n",
    "Sum = 0\n",
    "\n",
    "while(Number>0):\n",
    "     Remainder = Number % 10\n",
    "     Sum = Sum + Remainder\n",
    "     Number = Number //10\n",
    "\n",
    "print(\"\\n Sum of the digit of given number = %d\" %Sum) "
   ]
  },
  {
   "cell_type": "code",
   "execution_count": 1,
   "metadata": {},
   "outputs": [
    {
     "name": "stdout",
     "output_type": "stream",
     "text": [
      "The sum of all the desks =  18\n"
     ]
    }
   ],
   "source": [
    "import math\r\n",
    "\r\n",
    "first=int(input(\"Insert number of the students of 1th class = \"))\r\n",
    "second=int(input(\"Insert number of the students of 2th class = \"))\r\n",
    "third=int(input(\"Insert number of the students of 1th class = \"))\r\n",
    "\r\n",
    "sum=first+second+third\r\n",
    "avg=sum/2\r\n",
    "disk=avg/2\r\n",
    "round=math.ceil(avg)\r\n",
    "\r\n",
    "if ( first,second,third%2==int(0) ):\r\n",
    "    Sum=math.ceil(first/2)+math.ceil(second/2)+math.ceil(third/2)\r\n",
    "  \r\n",
    "print(\"The sum of all the desks = \",Sum)"
   ]
  }
 ],
 "metadata": {
  "interpreter": {
   "hash": "74a47a49a1f591059786b631a396dd4c938e7d42dc50423c71fed3f2e7167de7"
  },
  "kernelspec": {
   "display_name": "Python 3.8.8 64-bit ('base': conda)",
   "name": "python3"
  },
  "language_info": {
   "codemirror_mode": {
    "name": "ipython",
    "version": 3
   },
   "file_extension": ".py",
   "mimetype": "text/x-python",
   "name": "python",
   "nbconvert_exporter": "python",
   "pygments_lexer": "ipython3",
   "version": "3.8.8"
  },
  "orig_nbformat": 4
 },
 "nbformat": 4,
 "nbformat_minor": 2
}