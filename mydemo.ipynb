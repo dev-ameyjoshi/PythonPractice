{
 "cells": [
  {
   "cell_type": "code",
   "execution_count": 5,
   "metadata": {},
   "outputs": [
    {
     "name": "stdout",
     "output_type": "stream",
     "text": [
      "[12, 24, 88]\n"
     ]
    }
   ],
   "source": [
    "li = [12,24,35,70,88,120,155]\n",
    "li = [x for x in li if x%5!=0 and x%7!=0]\n",
    "print(li)"
   ]
  },
  {
   "cell_type": "code",
   "execution_count": 6,
   "metadata": {},
   "outputs": [
    {
     "name": "stdout",
     "output_type": "stream",
     "text": [
      "Amey\n"
     ]
    }
   ],
   "source": [
    "new = input(\"What is your name : \")\n",
    "print(new)"
   ]
  },
  {
   "cell_type": "code",
   "execution_count": 7,
   "metadata": {},
   "outputs": [
    {
     "name": "stdout",
     "output_type": "stream",
     "text": [
      "\n",
      " Sum of the digit of given number = 3\n"
     ]
    }
   ],
   "source": [
    "Number = int(input(\"Enter the number : \"))\n",
    "Sum = 0\n",
    "\n",
    "while(Number>0):\n",
    "     Remainder = Number % 10\n",
    "     Sum = Sum + Remainder\n",
    "     Number = Number //10\n",
    "\n",
    "print(\"\\n Sum of the digit of given number = %d\" %Sum) "
   ]
  },
  {
   "cell_type": "code",
   "execution_count": 1,
   "metadata": {},
   "outputs": [
    {
     "name": "stdout",
     "output_type": "stream",
     "text": [
      "The sum of all the desks =  19\n"
     ]
    }
   ],
   "source": [
    "import math\r\n",
    "\r\n",
    "first=int(input(\"Insert number of the students of 1th class = \"))\r\n",
    "second=int(input(\"Insert number of the students of 2th class = \"))\r\n",
    "third=int(input(\"Insert number of the students of 1th class = \"))\r\n",
    "\r\n",
    "sum=first+second+third\r\n",
    "avg=sum/2\r\n",
    "disk=avg/2\r\n",
    "round=math.ceil(avg)\r\n",
    "\r\n",
    "if ( first,second,third%2==int(0) ):\r\n",
    "    Sum=math.ceil(first/2)+math.ceil(second/2)+math.ceil(third/2)\r\n",
    "  \r\n",
    "print(\"The sum of all the desks = \",Sum)"
   ]
  },
  {
   "cell_type": "code",
   "execution_count": 14,
   "metadata": {},
   "outputs": [
    {
     "name": "stdout",
     "output_type": "stream",
     "text": [
      "Zoom\n"
     ]
    }
   ],
   "source": [
    "num=int(input(\"Enter the value : \"))\r\n",
    "\r\n",
    "if(num % 5 == 0):\r\n",
    "    if(num % 3 == 0):\r\n",
    "        print(\"Zoom\")\r\n",
    "    else:\r\n",
    "         print(\"Zap\") \r\n",
    "elif(num % 3 == 0):\r\n",
    "     print(\"Zip\")\r\n",
    "else:\r\n",
    "     print(\"invalid\")\r\n",
    "\r\n"
   ]
  },
  {
   "cell_type": "code",
   "execution_count": 1,
   "metadata": {},
   "outputs": [
    {
     "name": "stdout",
     "output_type": "stream",
     "text": [
      "The current number is  1\n",
      "The current number is  2\n",
      "The current number is  3\n",
      "The current number is  4\n",
      "---------------------------\n",
      "The current number is  1\n",
      "The current number is  3\n",
      "The current number is  5\n",
      "---------------------------\n",
      "The current number is  5\n",
      "The current number is  4\n",
      "The current number is  3\n",
      "The current number is  2\n",
      "The current number is  1\n"
     ]
    }
   ],
   "source": [
    "for number in range(1,5):\r\n",
    "    print (\"The current number is \",number)\r\n",
    "print(\"---------------------------\")\r\n",
    "\r\n",
    "for number in range(1,7,2):\r\n",
    "    print (\"The current number is \",number)\r\n",
    "print(\"---------------------------\")\r\n",
    "\r\n",
    "for number in range(5,0,-1):\r\n",
    "    print (\"The current number is \",number)\r\n"
   ]
  },
  {
   "cell_type": "code",
   "execution_count": null,
   "metadata": {},
   "outputs": [],
   "source": []
  }
 ],
 "metadata": {
  "interpreter": {
   "hash": "63fd5069d213b44bf678585dea6b12cceca9941eaf7f819626cde1f2670de90d"
  },
  "kernelspec": {
   "display_name": "Python 3.9.5 64-bit",
   "name": "python3"
  },
  "language_info": {
   "codemirror_mode": {
    "name": "ipython",
    "version": 3
   },
   "file_extension": ".py",
   "mimetype": "text/x-python",
   "name": "python",
   "nbconvert_exporter": "python",
   "pygments_lexer": "ipython3",
   "version": "3.9.5"
  },
  "orig_nbformat": 4
 },
 "nbformat": 4,
 "nbformat_minor": 2
}